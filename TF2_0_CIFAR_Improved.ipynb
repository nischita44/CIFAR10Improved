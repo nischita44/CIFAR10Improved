{
  "nbformat": 4,
  "nbformat_minor": 0,
  "metadata": {
    "colab": {
      "name": "TF2.0 CIFAR Improved.ipynb",
      "provenance": [],
      "collapsed_sections": []
    },
    "kernelspec": {
      "name": "python3",
      "display_name": "Python 3"
    },
    "accelerator": "GPU"
  },
  "cells": [
    {
      "cell_type": "code",
      "metadata": {
        "id": "pmNpq8GML1jW",
        "colab": {
          "base_uri": "https://localhost:8080/"
        },
        "outputId": "3c497206-a90b-4ca9-d122-d27eeb1df087"
      },
      "source": [
        "# Install TensorFlow\n",
        "# !pip install -q tensorflow-gpu==2.0.0-beta1\n",
        "\n",
        "try:\n",
        "  %tensorflow_version 2.x  # Colab only.\n",
        "except Exception:\n",
        "  pass\n",
        "\n",
        "import tensorflow as tf\n",
        "print(tf.__version__)"
      ],
      "execution_count": null,
      "outputs": [
        {
          "output_type": "stream",
          "name": "stdout",
          "text": [
            "`%tensorflow_version` only switches the major version: 1.x or 2.x.\n",
            "You set: `2.x  # Colab only.`. This will be interpreted as: `2.x`.\n",
            "\n",
            "\n",
            "TensorFlow 2.x selected.\n",
            "2.6.0\n"
          ]
        }
      ]
    },
    {
      "cell_type": "code",
      "metadata": {
        "id": "cBJh6ib6MEIW"
      },
      "source": [
        "# additional imports\n",
        "\n",
        "import numpy as np\n",
        "import matplotlib.pyplot as plt\n",
        "from tensorflow.keras.layers import Input, Conv2D, Dense, Flatten, Dropout, GlobalMaxPooling2D, MaxPooling2D, BatchNormalization\n",
        "from tensorflow.keras.models import Model"
      ],
      "execution_count": null,
      "outputs": []
    },
    {
      "cell_type": "code",
      "metadata": {
        "id": "H_EGZv1TL4S_",
        "colab": {
          "base_uri": "https://localhost:8080/"
        },
        "outputId": "85baf2c5-7e6a-41c5-9afe-b8cf917cdcb0"
      },
      "source": [
        "# Load in the data\n",
        "cifar10 = tf.keras.datasets.cifar10\n",
        "\n",
        "(x_train, y_train), (x_test, y_test) = cifar10.load_data()\n",
        "x_train, x_test = x_train / 255.0, x_test / 255.0\n",
        "y_train, y_test = y_train.flatten(), y_test.flatten()\n",
        "print(\"x_train.shape:\", x_train.shape)\n",
        "print(\"y_train.shape\", y_train.shape)"
      ],
      "execution_count": null,
      "outputs": [
        {
          "output_type": "stream",
          "name": "stdout",
          "text": [
            "Downloading data from https://www.cs.toronto.edu/~kriz/cifar-10-python.tar.gz\n",
            "170500096/170498071 [==============================] - 4s 0us/step\n",
            "170508288/170498071 [==============================] - 4s 0us/step\n",
            "x_train.shape: (50000, 32, 32, 3)\n",
            "y_train.shape (50000,)\n"
          ]
        }
      ]
    },
    {
      "cell_type": "code",
      "metadata": {
        "id": "1Wr15bYpMwbB",
        "colab": {
          "base_uri": "https://localhost:8080/"
        },
        "outputId": "a3aa76c3-37bb-46c1-a98a-ca1b73cba67b"
      },
      "source": [
        "# number of classes\n",
        "K = len(set(y_train))\n",
        "print(\"number of classes:\", K)"
      ],
      "execution_count": null,
      "outputs": [
        {
          "output_type": "stream",
          "name": "stdout",
          "text": [
            "number of classes: 10\n"
          ]
        }
      ]
    },
    {
      "cell_type": "code",
      "metadata": {
        "id": "Mmo66uQoMA1Q"
      },
      "source": [
        "# Build the model using the functional API\n",
        "i = Input(shape=x_train[0].shape)\n",
        "\n",
        "\n",
        "x = Conv2D(32, (3, 3), activation='relu', padding='same')(i)\n",
        "x = BatchNormalization()(x)\n",
        "x = Conv2D(32, (3, 3), activation='relu', padding='same')(x)\n",
        "x = BatchNormalization()(x)\n",
        "x = MaxPooling2D((2, 2))(x)\n",
        "x = Conv2D(64, (3, 3), activation='relu', padding='same')(x)\n",
        "x = BatchNormalization()(x)\n",
        "x = Conv2D(64, (3, 3), activation='relu', padding='same')(x)\n",
        "x = BatchNormalization()(x)\n",
        "x = MaxPooling2D((2, 2))(x)\n",
        "x = Conv2D(128, (3, 3), activation='relu', padding='same')(x)\n",
        "x = BatchNormalization()(x)\n",
        "x = Conv2D(128, (3, 3), activation='relu', padding='same')(x)\n",
        "x = BatchNormalization()(x)\n",
        "x = MaxPooling2D((2, 2))(x)\n",
        "\n",
        "\n",
        "# x = GlobalMaxPooling2D()(x)\n",
        "x = Flatten()(x)\n",
        "x = Dropout(0.2)(x)\n",
        "x = Dense(1024, activation='relu')(x)\n",
        "x = Dropout(0.2)(x)\n",
        "x = Dense(K, activation='softmax')(x)\n",
        "\n",
        "model = Model(i, x)"
      ],
      "execution_count": null,
      "outputs": []
    },
    {
      "cell_type": "code",
      "metadata": {
        "id": "0zF9n0P7NcP-"
      },
      "source": [
        "# Compile\n",
        "# Note: make sure you are using the GPU for this!\n",
        "model.compile(optimizer='adam',\n",
        "              loss='sparse_categorical_crossentropy',\n",
        "              metrics=['accuracy'])"
      ],
      "execution_count": null,
      "outputs": []
    },
    {
      "cell_type": "code",
      "metadata": {
        "id": "BBzAGEjOkvFz",
        "colab": {
          "base_uri": "https://localhost:8080/"
        },
        "outputId": "dd4a31ec-c9aa-4b3d-c62b-1be41a19d7d5"
      },
      "source": [
        "# Fit\n",
        "r = model.fit(x_train, y_train, validation_data=(x_test, y_test), epochs=100)"
      ],
      "execution_count": null,
      "outputs": [
        {
          "output_type": "stream",
          "name": "stdout",
          "text": [
            "Epoch 1/100\n",
            "1563/1563 [==============================] - 65s 22ms/step - loss: 1.3423 - accuracy: 0.5394 - val_loss: 1.1043 - val_accuracy: 0.6215\n",
            "Epoch 2/100\n",
            "1563/1563 [==============================] - 32s 21ms/step - loss: 0.8628 - accuracy: 0.7003 - val_loss: 0.8027 - val_accuracy: 0.7243\n",
            "Epoch 3/100\n",
            "1563/1563 [==============================] - 33s 21ms/step - loss: 0.6990 - accuracy: 0.7576 - val_loss: 0.7018 - val_accuracy: 0.7570\n",
            "Epoch 4/100\n",
            "1563/1563 [==============================] - 33s 21ms/step - loss: 0.5969 - accuracy: 0.7944 - val_loss: 0.6758 - val_accuracy: 0.7708\n",
            "Epoch 5/100\n",
            "1563/1563 [==============================] - 33s 21ms/step - loss: 0.5013 - accuracy: 0.8278 - val_loss: 0.7426 - val_accuracy: 0.7503\n",
            "Epoch 6/100\n",
            "1563/1563 [==============================] - 33s 21ms/step - loss: 0.4218 - accuracy: 0.8538 - val_loss: 0.5935 - val_accuracy: 0.8086\n",
            "Epoch 7/100\n",
            "1563/1563 [==============================] - 33s 21ms/step - loss: 0.3612 - accuracy: 0.8759 - val_loss: 0.6114 - val_accuracy: 0.8143\n",
            "Epoch 8/100\n",
            "1563/1563 [==============================] - 33s 21ms/step - loss: 0.3080 - accuracy: 0.8940 - val_loss: 0.6186 - val_accuracy: 0.8139\n",
            "Epoch 9/100\n",
            "1563/1563 [==============================] - 32s 20ms/step - loss: 0.2637 - accuracy: 0.9083 - val_loss: 0.6158 - val_accuracy: 0.8188\n",
            "Epoch 10/100\n",
            "1563/1563 [==============================] - 33s 21ms/step - loss: 0.2264 - accuracy: 0.9228 - val_loss: 0.6329 - val_accuracy: 0.8195\n",
            "Epoch 11/100\n",
            "1563/1563 [==============================] - 31s 20ms/step - loss: 0.1953 - accuracy: 0.9318 - val_loss: 0.6781 - val_accuracy: 0.8243\n",
            "Epoch 12/100\n",
            "1563/1563 [==============================] - 31s 20ms/step - loss: 0.1726 - accuracy: 0.9415 - val_loss: 0.6948 - val_accuracy: 0.8190\n",
            "Epoch 13/100\n",
            "1563/1563 [==============================] - 31s 20ms/step - loss: 0.1638 - accuracy: 0.9449 - val_loss: 0.6630 - val_accuracy: 0.8225\n",
            "Epoch 14/100\n",
            "1563/1563 [==============================] - 31s 20ms/step - loss: 0.1479 - accuracy: 0.9504 - val_loss: 0.7103 - val_accuracy: 0.8222\n",
            "Epoch 15/100\n",
            "1563/1563 [==============================] - 30s 19ms/step - loss: 0.1381 - accuracy: 0.9525 - val_loss: 0.6972 - val_accuracy: 0.8233\n",
            "Epoch 16/100\n",
            "1563/1563 [==============================] - 31s 20ms/step - loss: 0.1306 - accuracy: 0.9572 - val_loss: 0.7057 - val_accuracy: 0.8177\n",
            "Epoch 17/100\n",
            "1563/1563 [==============================] - 30s 19ms/step - loss: 0.1144 - accuracy: 0.9610 - val_loss: 0.7268 - val_accuracy: 0.8225\n",
            "Epoch 18/100\n",
            "1563/1563 [==============================] - 31s 20ms/step - loss: 0.1145 - accuracy: 0.9622 - val_loss: 0.7586 - val_accuracy: 0.8156\n",
            "Epoch 19/100\n",
            "1563/1563 [==============================] - 31s 20ms/step - loss: 0.1010 - accuracy: 0.9664 - val_loss: 0.7860 - val_accuracy: 0.8303\n",
            "Epoch 20/100\n",
            "1563/1563 [==============================] - 30s 19ms/step - loss: 0.1038 - accuracy: 0.9664 - val_loss: 0.7730 - val_accuracy: 0.8308\n",
            "Epoch 21/100\n",
            "1563/1563 [==============================] - 30s 19ms/step - loss: 0.0896 - accuracy: 0.9710 - val_loss: 0.7779 - val_accuracy: 0.8312\n",
            "Epoch 22/100\n",
            "1563/1563 [==============================] - 30s 19ms/step - loss: 0.0888 - accuracy: 0.9707 - val_loss: 0.7254 - val_accuracy: 0.8342\n",
            "Epoch 23/100\n",
            "1563/1563 [==============================] - 30s 19ms/step - loss: 0.0842 - accuracy: 0.9727 - val_loss: 0.8092 - val_accuracy: 0.8303\n",
            "Epoch 24/100\n",
            "1563/1563 [==============================] - 30s 19ms/step - loss: 0.0820 - accuracy: 0.9726 - val_loss: 0.7921 - val_accuracy: 0.8324\n",
            "Epoch 25/100\n",
            "1563/1563 [==============================] - 30s 19ms/step - loss: 0.0782 - accuracy: 0.9744 - val_loss: 0.7824 - val_accuracy: 0.8276\n",
            "Epoch 26/100\n",
            "1563/1563 [==============================] - 31s 20ms/step - loss: 0.0738 - accuracy: 0.9756 - val_loss: 0.8828 - val_accuracy: 0.8305\n",
            "Epoch 27/100\n",
            "1563/1563 [==============================] - 31s 20ms/step - loss: 0.0769 - accuracy: 0.9749 - val_loss: 0.7461 - val_accuracy: 0.8369\n",
            "Epoch 28/100\n",
            "1563/1563 [==============================] - 31s 20ms/step - loss: 0.0667 - accuracy: 0.9775 - val_loss: 0.7224 - val_accuracy: 0.8356\n",
            "Epoch 29/100\n",
            "1563/1563 [==============================] - 30s 19ms/step - loss: 0.0650 - accuracy: 0.9786 - val_loss: 0.8140 - val_accuracy: 0.8355\n",
            "Epoch 30/100\n",
            "1563/1563 [==============================] - 30s 19ms/step - loss: 0.0626 - accuracy: 0.9795 - val_loss: 0.8316 - val_accuracy: 0.8351\n",
            "Epoch 31/100\n",
            "1563/1563 [==============================] - 30s 19ms/step - loss: 0.0589 - accuracy: 0.9806 - val_loss: 0.7986 - val_accuracy: 0.8341\n",
            "Epoch 32/100\n",
            "1563/1563 [==============================] - 31s 20ms/step - loss: 0.0647 - accuracy: 0.9786 - val_loss: 0.8288 - val_accuracy: 0.8325\n",
            "Epoch 33/100\n",
            "1563/1563 [==============================] - 31s 20ms/step - loss: 0.0574 - accuracy: 0.9811 - val_loss: 0.7702 - val_accuracy: 0.8281\n",
            "Epoch 34/100\n",
            "1563/1563 [==============================] - 32s 20ms/step - loss: 0.0574 - accuracy: 0.9810 - val_loss: 0.8492 - val_accuracy: 0.8316\n",
            "Epoch 35/100\n",
            "1563/1563 [==============================] - 31s 20ms/step - loss: 0.0549 - accuracy: 0.9826 - val_loss: 0.7737 - val_accuracy: 0.8347\n",
            "Epoch 36/100\n",
            "1563/1563 [==============================] - 31s 20ms/step - loss: 0.0533 - accuracy: 0.9824 - val_loss: 0.8137 - val_accuracy: 0.8402\n",
            "Epoch 37/100\n",
            "1563/1563 [==============================] - 31s 20ms/step - loss: 0.0523 - accuracy: 0.9833 - val_loss: 0.7890 - val_accuracy: 0.8378\n",
            "Epoch 38/100\n",
            "1563/1563 [==============================] - 31s 20ms/step - loss: 0.0517 - accuracy: 0.9834 - val_loss: 0.8227 - val_accuracy: 0.8420\n",
            "Epoch 39/100\n",
            "1563/1563 [==============================] - 30s 19ms/step - loss: 0.0482 - accuracy: 0.9843 - val_loss: 0.8087 - val_accuracy: 0.8393\n",
            "Epoch 40/100\n",
            "1563/1563 [==============================] - 30s 19ms/step - loss: 0.0497 - accuracy: 0.9842 - val_loss: 0.9126 - val_accuracy: 0.8314\n",
            "Epoch 41/100\n",
            "1563/1563 [==============================] - 30s 19ms/step - loss: 0.0456 - accuracy: 0.9856 - val_loss: 0.8583 - val_accuracy: 0.8285\n",
            "Epoch 42/100\n",
            "1563/1563 [==============================] - 30s 19ms/step - loss: 0.0459 - accuracy: 0.9847 - val_loss: 0.8156 - val_accuracy: 0.8326\n",
            "Epoch 43/100\n",
            "1563/1563 [==============================] - 31s 20ms/step - loss: 0.0512 - accuracy: 0.9837 - val_loss: 0.8710 - val_accuracy: 0.8314\n",
            "Epoch 44/100\n",
            "1563/1563 [==============================] - 30s 19ms/step - loss: 0.0464 - accuracy: 0.9856 - val_loss: 0.8271 - val_accuracy: 0.8387\n",
            "Epoch 45/100\n",
            "1563/1563 [==============================] - 30s 19ms/step - loss: 0.0463 - accuracy: 0.9851 - val_loss: 0.8502 - val_accuracy: 0.8419\n",
            "Epoch 46/100\n",
            "1563/1563 [==============================] - 30s 19ms/step - loss: 0.0439 - accuracy: 0.9863 - val_loss: 0.8821 - val_accuracy: 0.8421\n",
            "Epoch 47/100\n",
            "1563/1563 [==============================] - 31s 20ms/step - loss: 0.0400 - accuracy: 0.9868 - val_loss: 0.7863 - val_accuracy: 0.8428\n",
            "Epoch 48/100\n",
            "1563/1563 [==============================] - 31s 20ms/step - loss: 0.0431 - accuracy: 0.9858 - val_loss: 0.8096 - val_accuracy: 0.8356\n",
            "Epoch 49/100\n",
            "1563/1563 [==============================] - 30s 19ms/step - loss: 0.0435 - accuracy: 0.9861 - val_loss: 0.8440 - val_accuracy: 0.8410\n",
            "Epoch 50/100\n",
            "1563/1563 [==============================] - 30s 19ms/step - loss: 0.0450 - accuracy: 0.9856 - val_loss: 0.9055 - val_accuracy: 0.8366\n",
            "Epoch 51/100\n",
            "1563/1563 [==============================] - 30s 19ms/step - loss: 0.0392 - accuracy: 0.9877 - val_loss: 0.8644 - val_accuracy: 0.8379\n",
            "Epoch 52/100\n",
            "1563/1563 [==============================] - 30s 19ms/step - loss: 0.0412 - accuracy: 0.9868 - val_loss: 0.8949 - val_accuracy: 0.8406\n",
            "Epoch 53/100\n",
            "1563/1563 [==============================] - 30s 19ms/step - loss: 0.0387 - accuracy: 0.9880 - val_loss: 0.9028 - val_accuracy: 0.8356\n",
            "Epoch 54/100\n",
            "1563/1563 [==============================] - 30s 19ms/step - loss: 0.0413 - accuracy: 0.9869 - val_loss: 0.9170 - val_accuracy: 0.8417\n",
            "Epoch 55/100\n",
            "1563/1563 [==============================] - 30s 19ms/step - loss: 0.0383 - accuracy: 0.9881 - val_loss: 1.1059 - val_accuracy: 0.8324\n",
            "Epoch 56/100\n",
            "1563/1563 [==============================] - 30s 19ms/step - loss: 0.0398 - accuracy: 0.9875 - val_loss: 0.9127 - val_accuracy: 0.8346\n",
            "Epoch 57/100\n",
            "1563/1563 [==============================] - 30s 19ms/step - loss: 0.0360 - accuracy: 0.9885 - val_loss: 0.9690 - val_accuracy: 0.8427\n",
            "Epoch 58/100\n",
            "1563/1563 [==============================] - 31s 20ms/step - loss: 0.0381 - accuracy: 0.9886 - val_loss: 0.9457 - val_accuracy: 0.8407\n",
            "Epoch 59/100\n",
            "1563/1563 [==============================] - 31s 20ms/step - loss: 0.0354 - accuracy: 0.9888 - val_loss: 0.9412 - val_accuracy: 0.8444\n",
            "Epoch 60/100\n",
            "1563/1563 [==============================] - 31s 20ms/step - loss: 0.0359 - accuracy: 0.9888 - val_loss: 0.9479 - val_accuracy: 0.8399\n",
            "Epoch 61/100\n",
            "1563/1563 [==============================] - 31s 20ms/step - loss: 0.0386 - accuracy: 0.9878 - val_loss: 0.8941 - val_accuracy: 0.8391\n",
            "Epoch 62/100\n",
            "1563/1563 [==============================] - 30s 19ms/step - loss: 0.0347 - accuracy: 0.9894 - val_loss: 0.9539 - val_accuracy: 0.8353\n",
            "Epoch 63/100\n",
            "1563/1563 [==============================] - 31s 20ms/step - loss: 0.0374 - accuracy: 0.9883 - val_loss: 0.9751 - val_accuracy: 0.8395\n",
            "Epoch 64/100\n",
            "1563/1563 [==============================] - 30s 19ms/step - loss: 0.0373 - accuracy: 0.9885 - val_loss: 0.8573 - val_accuracy: 0.8400\n",
            "Epoch 65/100\n",
            "1563/1563 [==============================] - 30s 19ms/step - loss: 0.0365 - accuracy: 0.9888 - val_loss: 1.0038 - val_accuracy: 0.8430\n",
            "Epoch 66/100\n",
            "1563/1563 [==============================] - 30s 19ms/step - loss: 0.0351 - accuracy: 0.9895 - val_loss: 1.0101 - val_accuracy: 0.8446\n",
            "Epoch 67/100\n",
            "1563/1563 [==============================] - 30s 19ms/step - loss: 0.0365 - accuracy: 0.9894 - val_loss: 0.9615 - val_accuracy: 0.8412\n",
            "Epoch 68/100\n",
            "1563/1563 [==============================] - 30s 19ms/step - loss: 0.0356 - accuracy: 0.9888 - val_loss: 1.1418 - val_accuracy: 0.8362\n",
            "Epoch 69/100\n",
            "1563/1563 [==============================] - 30s 19ms/step - loss: 0.0353 - accuracy: 0.9889 - val_loss: 0.9320 - val_accuracy: 0.8373\n",
            "Epoch 70/100\n",
            "1563/1563 [==============================] - 30s 19ms/step - loss: 0.0337 - accuracy: 0.9895 - val_loss: 1.0391 - val_accuracy: 0.8415\n",
            "Epoch 71/100\n",
            "1563/1563 [==============================] - 31s 20ms/step - loss: 0.0317 - accuracy: 0.9901 - val_loss: 0.8975 - val_accuracy: 0.8444\n",
            "Epoch 72/100\n",
            "1563/1563 [==============================] - 31s 20ms/step - loss: 0.0381 - accuracy: 0.9888 - val_loss: 0.9845 - val_accuracy: 0.8384\n",
            "Epoch 73/100\n",
            "1563/1563 [==============================] - 32s 21ms/step - loss: 0.0342 - accuracy: 0.9899 - val_loss: 1.0604 - val_accuracy: 0.8436\n",
            "Epoch 74/100\n",
            "1563/1563 [==============================] - 32s 21ms/step - loss: 0.0324 - accuracy: 0.9902 - val_loss: 0.9134 - val_accuracy: 0.8445\n",
            "Epoch 75/100\n",
            "1563/1563 [==============================] - 31s 20ms/step - loss: 0.0327 - accuracy: 0.9904 - val_loss: 1.0825 - val_accuracy: 0.8362\n",
            "Epoch 76/100\n",
            "1563/1563 [==============================] - 31s 20ms/step - loss: 0.0331 - accuracy: 0.9908 - val_loss: 0.8671 - val_accuracy: 0.8389\n",
            "Epoch 77/100\n",
            "1563/1563 [==============================] - 31s 20ms/step - loss: 0.0342 - accuracy: 0.9899 - val_loss: 1.0072 - val_accuracy: 0.8454\n",
            "Epoch 78/100\n",
            "1563/1563 [==============================] - 31s 20ms/step - loss: 0.0317 - accuracy: 0.9905 - val_loss: 1.0072 - val_accuracy: 0.8369\n",
            "Epoch 79/100\n",
            "1563/1563 [==============================] - 31s 20ms/step - loss: 0.0327 - accuracy: 0.9901 - val_loss: 0.9771 - val_accuracy: 0.8383\n",
            "Epoch 80/100\n",
            "1563/1563 [==============================] - 31s 20ms/step - loss: 0.0301 - accuracy: 0.9905 - val_loss: 1.1104 - val_accuracy: 0.8444\n",
            "Epoch 81/100\n",
            "1563/1563 [==============================] - 31s 20ms/step - loss: 0.0332 - accuracy: 0.9905 - val_loss: 1.0570 - val_accuracy: 0.8401\n",
            "Epoch 82/100\n",
            "1563/1563 [==============================] - 31s 20ms/step - loss: 0.0292 - accuracy: 0.9912 - val_loss: 1.1191 - val_accuracy: 0.8431\n",
            "Epoch 83/100\n",
            "1563/1563 [==============================] - 32s 20ms/step - loss: 0.0343 - accuracy: 0.9900 - val_loss: 0.9743 - val_accuracy: 0.8390\n",
            "Epoch 84/100\n",
            "1563/1563 [==============================] - 31s 20ms/step - loss: 0.0335 - accuracy: 0.9900 - val_loss: 1.0062 - val_accuracy: 0.8423\n",
            "Epoch 85/100\n",
            "1563/1563 [==============================] - 31s 20ms/step - loss: 0.0326 - accuracy: 0.9903 - val_loss: 1.0950 - val_accuracy: 0.8461\n",
            "Epoch 86/100\n",
            "1563/1563 [==============================] - 31s 20ms/step - loss: 0.0320 - accuracy: 0.9909 - val_loss: 1.0428 - val_accuracy: 0.8400\n",
            "Epoch 87/100\n",
            "1563/1563 [==============================] - 30s 19ms/step - loss: 0.0319 - accuracy: 0.9909 - val_loss: 1.2080 - val_accuracy: 0.8397\n",
            "Epoch 88/100\n",
            "1563/1563 [==============================] - 30s 19ms/step - loss: 0.0313 - accuracy: 0.9913 - val_loss: 1.1810 - val_accuracy: 0.8458\n",
            "Epoch 89/100\n",
            "1563/1563 [==============================] - 30s 19ms/step - loss: 0.0269 - accuracy: 0.9916 - val_loss: 1.1278 - val_accuracy: 0.8401\n",
            "Epoch 90/100\n",
            "1563/1563 [==============================] - 30s 19ms/step - loss: 0.0335 - accuracy: 0.9904 - val_loss: 1.1982 - val_accuracy: 0.8345\n",
            "Epoch 91/100\n",
            "1563/1563 [==============================] - 30s 19ms/step - loss: 0.0287 - accuracy: 0.9918 - val_loss: 1.1208 - val_accuracy: 0.8454\n",
            "Epoch 92/100\n",
            "1563/1563 [==============================] - 30s 19ms/step - loss: 0.0301 - accuracy: 0.9915 - val_loss: 1.0380 - val_accuracy: 0.8345\n",
            "Epoch 93/100\n",
            "1563/1563 [==============================] - 30s 19ms/step - loss: 0.0317 - accuracy: 0.9906 - val_loss: 1.1265 - val_accuracy: 0.8401\n",
            "Epoch 94/100\n",
            "1563/1563 [==============================] - 30s 19ms/step - loss: 0.0302 - accuracy: 0.9917 - val_loss: 1.3035 - val_accuracy: 0.8466\n",
            "Epoch 95/100\n",
            "1563/1563 [==============================] - 30s 19ms/step - loss: 0.0296 - accuracy: 0.9913 - val_loss: 1.0702 - val_accuracy: 0.8480\n",
            "Epoch 96/100\n",
            "1563/1563 [==============================] - 30s 19ms/step - loss: 0.0310 - accuracy: 0.9917 - val_loss: 0.9573 - val_accuracy: 0.8406\n",
            "Epoch 97/100\n",
            "1563/1563 [==============================] - 30s 19ms/step - loss: 0.0287 - accuracy: 0.9916 - val_loss: 1.0954 - val_accuracy: 0.8308\n",
            "Epoch 98/100\n",
            "1563/1563 [==============================] - 30s 19ms/step - loss: 0.0305 - accuracy: 0.9912 - val_loss: 1.4568 - val_accuracy: 0.8432\n",
            "Epoch 99/100\n",
            "1563/1563 [==============================] - 30s 19ms/step - loss: 0.0312 - accuracy: 0.9911 - val_loss: 1.1271 - val_accuracy: 0.8362\n",
            "Epoch 100/100\n",
            "1563/1563 [==============================] - 30s 19ms/step - loss: 0.0329 - accuracy: 0.9904 - val_loss: 1.2550 - val_accuracy: 0.8405\n"
          ]
        }
      ]
    },
    {
      "cell_type": "code",
      "metadata": {
        "id": "af61hXUrYjsZ",
        "colab": {
          "base_uri": "https://localhost:8080/"
        },
        "outputId": "6349f9b4-8976-4138-8476-dc8bdc01e4ac"
      },
      "source": [
        "# Fit with data augmentation\n",
        "batch_size = 32\n",
        "data_generator = tf.keras.preprocessing.image.ImageDataGenerator(width_shift_range=0.1, height_shift_range=0.1, horizontal_flip=True)\n",
        "train_generator = data_generator.flow(x_train, y_train, batch_size)\n",
        "steps_per_epoch = x_train.shape[0] // batch_size\n",
        "r = model.fit(train_generator, validation_data=(x_test, y_test), steps_per_epoch=steps_per_epoch, epochs=100)"
      ],
      "execution_count": null,
      "outputs": [
        {
          "output_type": "stream",
          "name": "stdout",
          "text": [
            "Epoch 1/100\n",
            "1562/1562 [==============================] - 58s 37ms/step - loss: 0.5784 - accuracy: 0.8191 - val_loss: 0.5189 - val_accuracy: 0.8365\n",
            "Epoch 2/100\n",
            "1562/1562 [==============================] - 56s 36ms/step - loss: 0.4604 - accuracy: 0.8509 - val_loss: 0.5066 - val_accuracy: 0.8343\n",
            "Epoch 3/100\n",
            "1562/1562 [==============================] - 57s 36ms/step - loss: 0.4241 - accuracy: 0.8605 - val_loss: 0.4816 - val_accuracy: 0.8485\n",
            "Epoch 4/100\n",
            "1562/1562 [==============================] - 57s 37ms/step - loss: 0.4030 - accuracy: 0.8678 - val_loss: 0.4500 - val_accuracy: 0.8513\n",
            "Epoch 5/100\n",
            "1562/1562 [==============================] - 57s 36ms/step - loss: 0.3878 - accuracy: 0.8727 - val_loss: 0.4833 - val_accuracy: 0.8434\n",
            "Epoch 6/100\n",
            "1562/1562 [==============================] - 57s 37ms/step - loss: 0.3660 - accuracy: 0.8785 - val_loss: 0.4403 - val_accuracy: 0.8574\n",
            "Epoch 7/100\n",
            "1562/1562 [==============================] - 57s 37ms/step - loss: 0.3582 - accuracy: 0.8808 - val_loss: 0.4774 - val_accuracy: 0.8538\n",
            "Epoch 8/100\n",
            "1562/1562 [==============================] - 58s 37ms/step - loss: 0.3418 - accuracy: 0.8859 - val_loss: 0.4483 - val_accuracy: 0.8565\n",
            "Epoch 9/100\n",
            "1562/1562 [==============================] - 57s 37ms/step - loss: 0.3335 - accuracy: 0.8895 - val_loss: 0.4274 - val_accuracy: 0.8668\n",
            "Epoch 10/100\n",
            "1562/1562 [==============================] - 57s 37ms/step - loss: 0.3228 - accuracy: 0.8933 - val_loss: 0.4250 - val_accuracy: 0.8667\n",
            "Epoch 11/100\n",
            "1562/1562 [==============================] - 57s 37ms/step - loss: 0.3190 - accuracy: 0.8936 - val_loss: 0.4485 - val_accuracy: 0.8631\n",
            "Epoch 12/100\n",
            "1562/1562 [==============================] - 57s 36ms/step - loss: 0.3001 - accuracy: 0.8988 - val_loss: 0.4141 - val_accuracy: 0.8700\n",
            "Epoch 13/100\n",
            "1562/1562 [==============================] - 57s 37ms/step - loss: 0.3000 - accuracy: 0.8987 - val_loss: 0.4256 - val_accuracy: 0.8682\n",
            "Epoch 14/100\n",
            "1562/1562 [==============================] - 57s 37ms/step - loss: 0.2882 - accuracy: 0.9027 - val_loss: 0.4597 - val_accuracy: 0.8619\n",
            "Epoch 15/100\n",
            "1562/1562 [==============================] - 57s 36ms/step - loss: 0.2861 - accuracy: 0.9029 - val_loss: 0.4236 - val_accuracy: 0.8675\n",
            "Epoch 16/100\n",
            "1562/1562 [==============================] - 57s 37ms/step - loss: 0.2793 - accuracy: 0.9073 - val_loss: 0.4505 - val_accuracy: 0.8588\n",
            "Epoch 17/100\n",
            "1562/1562 [==============================] - 57s 37ms/step - loss: 0.2709 - accuracy: 0.9100 - val_loss: 0.4450 - val_accuracy: 0.8697\n",
            "Epoch 18/100\n",
            "1562/1562 [==============================] - 57s 36ms/step - loss: 0.2731 - accuracy: 0.9075 - val_loss: 0.4498 - val_accuracy: 0.8665\n",
            "Epoch 19/100\n",
            "1562/1562 [==============================] - 57s 37ms/step - loss: 0.2644 - accuracy: 0.9116 - val_loss: 0.4356 - val_accuracy: 0.8635\n",
            "Epoch 20/100\n",
            "1562/1562 [==============================] - 57s 36ms/step - loss: 0.2588 - accuracy: 0.9122 - val_loss: 0.4444 - val_accuracy: 0.8651\n",
            "Epoch 21/100\n",
            "1562/1562 [==============================] - 57s 37ms/step - loss: 0.2543 - accuracy: 0.9147 - val_loss: 0.4651 - val_accuracy: 0.8669\n",
            "Epoch 22/100\n",
            "1562/1562 [==============================] - 57s 37ms/step - loss: 0.2434 - accuracy: 0.9179 - val_loss: 0.4169 - val_accuracy: 0.8724\n",
            "Epoch 23/100\n",
            "1562/1562 [==============================] - 57s 37ms/step - loss: 0.2405 - accuracy: 0.9186 - val_loss: 0.4150 - val_accuracy: 0.8764\n",
            "Epoch 24/100\n",
            "1562/1562 [==============================] - 57s 37ms/step - loss: 0.2414 - accuracy: 0.9185 - val_loss: 0.4705 - val_accuracy: 0.8700\n",
            "Epoch 25/100\n",
            "1562/1562 [==============================] - 57s 37ms/step - loss: 0.2317 - accuracy: 0.9221 - val_loss: 0.4035 - val_accuracy: 0.8754\n",
            "Epoch 26/100\n",
            "1562/1562 [==============================] - 57s 37ms/step - loss: 0.2311 - accuracy: 0.9212 - val_loss: 0.4087 - val_accuracy: 0.8742\n",
            "Epoch 27/100\n",
            "1562/1562 [==============================] - 57s 37ms/step - loss: 0.2238 - accuracy: 0.9233 - val_loss: 0.4451 - val_accuracy: 0.8680\n",
            "Epoch 28/100\n",
            "1562/1562 [==============================] - 57s 36ms/step - loss: 0.2258 - accuracy: 0.9235 - val_loss: 0.4528 - val_accuracy: 0.8701\n",
            "Epoch 29/100\n",
            "1562/1562 [==============================] - 57s 37ms/step - loss: 0.2238 - accuracy: 0.9248 - val_loss: 0.4627 - val_accuracy: 0.8735\n",
            "Epoch 30/100\n",
            "1562/1562 [==============================] - 57s 37ms/step - loss: 0.2115 - accuracy: 0.9285 - val_loss: 0.4499 - val_accuracy: 0.8731\n",
            "Epoch 31/100\n",
            "1562/1562 [==============================] - 58s 37ms/step - loss: 0.2137 - accuracy: 0.9279 - val_loss: 0.4351 - val_accuracy: 0.8716\n",
            "Epoch 32/100\n",
            "1562/1562 [==============================] - 57s 37ms/step - loss: 0.2094 - accuracy: 0.9296 - val_loss: 0.4494 - val_accuracy: 0.8752\n",
            "Epoch 33/100\n",
            "1562/1562 [==============================] - 57s 37ms/step - loss: 0.2090 - accuracy: 0.9295 - val_loss: 0.4554 - val_accuracy: 0.8754\n",
            "Epoch 34/100\n",
            "1562/1562 [==============================] - 57s 37ms/step - loss: 0.2090 - accuracy: 0.9300 - val_loss: 0.4338 - val_accuracy: 0.8758\n",
            "Epoch 35/100\n",
            "1562/1562 [==============================] - 58s 37ms/step - loss: 0.1998 - accuracy: 0.9326 - val_loss: 0.4331 - val_accuracy: 0.8746\n",
            "Epoch 36/100\n",
            "1562/1562 [==============================] - 57s 37ms/step - loss: 0.2013 - accuracy: 0.9327 - val_loss: 0.4752 - val_accuracy: 0.8726\n",
            "Epoch 37/100\n",
            "1562/1562 [==============================] - 58s 37ms/step - loss: 0.2005 - accuracy: 0.9311 - val_loss: 0.4226 - val_accuracy: 0.8765\n",
            "Epoch 38/100\n",
            "1562/1562 [==============================] - 58s 37ms/step - loss: 0.1953 - accuracy: 0.9338 - val_loss: 0.4347 - val_accuracy: 0.8792\n",
            "Epoch 39/100\n",
            "1562/1562 [==============================] - 57s 37ms/step - loss: 0.1931 - accuracy: 0.9348 - val_loss: 0.4614 - val_accuracy: 0.8662\n",
            "Epoch 40/100\n",
            "1562/1562 [==============================] - 57s 37ms/step - loss: 0.1891 - accuracy: 0.9361 - val_loss: 0.4468 - val_accuracy: 0.8700\n",
            "Epoch 41/100\n",
            "1562/1562 [==============================] - 54s 35ms/step - loss: 0.1870 - accuracy: 0.9364 - val_loss: 0.4487 - val_accuracy: 0.8750\n",
            "Epoch 42/100\n",
            "1562/1562 [==============================] - 53s 34ms/step - loss: 0.1845 - accuracy: 0.9379 - val_loss: 0.4659 - val_accuracy: 0.8738\n",
            "Epoch 43/100\n",
            "1562/1562 [==============================] - 55s 35ms/step - loss: 0.1886 - accuracy: 0.9370 - val_loss: 0.4720 - val_accuracy: 0.8756\n",
            "Epoch 44/100\n",
            "1562/1562 [==============================] - 58s 37ms/step - loss: 0.1826 - accuracy: 0.9384 - val_loss: 0.4509 - val_accuracy: 0.8793\n",
            "Epoch 45/100\n",
            "1562/1562 [==============================] - 58s 37ms/step - loss: 0.1795 - accuracy: 0.9396 - val_loss: 0.4597 - val_accuracy: 0.8713\n",
            "Epoch 46/100\n",
            "1562/1562 [==============================] - 58s 37ms/step - loss: 0.1785 - accuracy: 0.9395 - val_loss: 0.4445 - val_accuracy: 0.8741\n",
            "Epoch 47/100\n",
            "1562/1562 [==============================] - 58s 37ms/step - loss: 0.1817 - accuracy: 0.9390 - val_loss: 0.4123 - val_accuracy: 0.8736\n",
            "Epoch 48/100\n",
            "1562/1562 [==============================] - 58s 37ms/step - loss: 0.1748 - accuracy: 0.9417 - val_loss: 0.4413 - val_accuracy: 0.8757\n",
            "Epoch 49/100\n",
            "1562/1562 [==============================] - 59s 37ms/step - loss: 0.1748 - accuracy: 0.9415 - val_loss: 0.4122 - val_accuracy: 0.8786\n",
            "Epoch 50/100\n",
            "1562/1562 [==============================] - 58s 37ms/step - loss: 0.1732 - accuracy: 0.9419 - val_loss: 0.4675 - val_accuracy: 0.8796\n",
            "Epoch 51/100\n",
            "1562/1562 [==============================] - 59s 38ms/step - loss: 0.1722 - accuracy: 0.9420 - val_loss: 0.4275 - val_accuracy: 0.8820\n",
            "Epoch 52/100\n",
            "1562/1562 [==============================] - 58s 37ms/step - loss: 0.1669 - accuracy: 0.9438 - val_loss: 0.4255 - val_accuracy: 0.8801\n",
            "Epoch 53/100\n",
            "1562/1562 [==============================] - 59s 38ms/step - loss: 0.1736 - accuracy: 0.9418 - val_loss: 0.4200 - val_accuracy: 0.8754\n",
            "Epoch 54/100\n",
            "1562/1562 [==============================] - 59s 38ms/step - loss: 0.1637 - accuracy: 0.9445 - val_loss: 0.5025 - val_accuracy: 0.8625\n",
            "Epoch 55/100\n",
            "1562/1562 [==============================] - 59s 37ms/step - loss: 0.1657 - accuracy: 0.9453 - val_loss: 0.4442 - val_accuracy: 0.8834\n",
            "Epoch 56/100\n",
            "1562/1562 [==============================] - 58s 37ms/step - loss: 0.1597 - accuracy: 0.9472 - val_loss: 0.4419 - val_accuracy: 0.8819\n",
            "Epoch 57/100\n",
            "1562/1562 [==============================] - 58s 37ms/step - loss: 0.1661 - accuracy: 0.9442 - val_loss: 0.4188 - val_accuracy: 0.8847\n",
            "Epoch 58/100\n",
            "1562/1562 [==============================] - 58s 37ms/step - loss: 0.1608 - accuracy: 0.9449 - val_loss: 0.4364 - val_accuracy: 0.8809\n",
            "Epoch 59/100\n",
            "1562/1562 [==============================] - 58s 37ms/step - loss: 0.1621 - accuracy: 0.9459 - val_loss: 0.4293 - val_accuracy: 0.8835\n",
            "Epoch 60/100\n",
            "1562/1562 [==============================] - 58s 37ms/step - loss: 0.1583 - accuracy: 0.9466 - val_loss: 0.4334 - val_accuracy: 0.8819\n",
            "Epoch 61/100\n",
            "1562/1562 [==============================] - 58s 37ms/step - loss: 0.1565 - accuracy: 0.9478 - val_loss: 0.4841 - val_accuracy: 0.8724\n",
            "Epoch 62/100\n",
            "1562/1562 [==============================] - 58s 37ms/step - loss: 0.1561 - accuracy: 0.9477 - val_loss: 0.4629 - val_accuracy: 0.8799\n",
            "Epoch 63/100\n",
            "1562/1562 [==============================] - 58s 37ms/step - loss: 0.1594 - accuracy: 0.9470 - val_loss: 0.4260 - val_accuracy: 0.8746\n",
            "Epoch 64/100\n",
            "1562/1562 [==============================] - 58s 37ms/step - loss: 0.1526 - accuracy: 0.9492 - val_loss: 0.4094 - val_accuracy: 0.8823\n",
            "Epoch 65/100\n",
            "1562/1562 [==============================] - 58s 37ms/step - loss: 0.1500 - accuracy: 0.9494 - val_loss: 0.4643 - val_accuracy: 0.8799\n",
            "Epoch 66/100\n",
            "1562/1562 [==============================] - 59s 38ms/step - loss: 0.1502 - accuracy: 0.9498 - val_loss: 0.4474 - val_accuracy: 0.8853\n",
            "Epoch 67/100\n",
            "1562/1562 [==============================] - 59s 37ms/step - loss: 0.1529 - accuracy: 0.9493 - val_loss: 0.4301 - val_accuracy: 0.8765\n",
            "Epoch 68/100\n",
            "1562/1562 [==============================] - 59s 37ms/step - loss: 0.1523 - accuracy: 0.9494 - val_loss: 0.4767 - val_accuracy: 0.8751\n",
            "Epoch 69/100\n",
            "1562/1562 [==============================] - 58s 37ms/step - loss: 0.1488 - accuracy: 0.9500 - val_loss: 0.4543 - val_accuracy: 0.8835\n",
            "Epoch 70/100\n",
            "1562/1562 [==============================] - 58s 37ms/step - loss: 0.1503 - accuracy: 0.9504 - val_loss: 0.4258 - val_accuracy: 0.8813\n",
            "Epoch 71/100\n",
            "1562/1562 [==============================] - 59s 38ms/step - loss: 0.1431 - accuracy: 0.9527 - val_loss: 0.4415 - val_accuracy: 0.8809\n",
            "Epoch 72/100\n",
            "1562/1562 [==============================] - 59s 38ms/step - loss: 0.1483 - accuracy: 0.9506 - val_loss: 0.4687 - val_accuracy: 0.8818\n",
            "Epoch 73/100\n",
            "1562/1562 [==============================] - 59s 38ms/step - loss: 0.1431 - accuracy: 0.9532 - val_loss: 0.4270 - val_accuracy: 0.8827\n",
            "Epoch 74/100\n",
            "1562/1562 [==============================] - 58s 37ms/step - loss: 0.1441 - accuracy: 0.9531 - val_loss: 0.4323 - val_accuracy: 0.8859\n",
            "Epoch 75/100\n",
            "1562/1562 [==============================] - 58s 37ms/step - loss: 0.1424 - accuracy: 0.9522 - val_loss: 0.4857 - val_accuracy: 0.8827\n",
            "Epoch 76/100\n",
            "1562/1562 [==============================] - 58s 37ms/step - loss: 0.1420 - accuracy: 0.9535 - val_loss: 0.4669 - val_accuracy: 0.8798\n",
            "Epoch 77/100\n",
            "1562/1562 [==============================] - 59s 37ms/step - loss: 0.1413 - accuracy: 0.9530 - val_loss: 0.4687 - val_accuracy: 0.8826\n",
            "Epoch 78/100\n",
            "1562/1562 [==============================] - 59s 38ms/step - loss: 0.1422 - accuracy: 0.9535 - val_loss: 0.4738 - val_accuracy: 0.8831\n",
            "Epoch 79/100\n",
            "1562/1562 [==============================] - 59s 38ms/step - loss: 0.1386 - accuracy: 0.9542 - val_loss: 0.4581 - val_accuracy: 0.8805\n",
            "Epoch 80/100\n",
            "1562/1562 [==============================] - 58s 37ms/step - loss: 0.1417 - accuracy: 0.9527 - val_loss: 0.5051 - val_accuracy: 0.8857\n",
            "Epoch 81/100\n",
            "1562/1562 [==============================] - 59s 38ms/step - loss: 0.1385 - accuracy: 0.9546 - val_loss: 0.4902 - val_accuracy: 0.8779\n",
            "Epoch 82/100\n",
            "1562/1562 [==============================] - 59s 38ms/step - loss: 0.1359 - accuracy: 0.9551 - val_loss: 0.4390 - val_accuracy: 0.8856\n",
            "Epoch 83/100\n",
            "1562/1562 [==============================] - 59s 38ms/step - loss: 0.1335 - accuracy: 0.9558 - val_loss: 0.4795 - val_accuracy: 0.8817\n",
            "Epoch 84/100\n",
            "1562/1562 [==============================] - 59s 38ms/step - loss: 0.1337 - accuracy: 0.9551 - val_loss: 0.4509 - val_accuracy: 0.8840\n",
            "Epoch 85/100\n",
            "1562/1562 [==============================] - 59s 38ms/step - loss: 0.1327 - accuracy: 0.9551 - val_loss: 0.4653 - val_accuracy: 0.8799\n",
            "Epoch 86/100\n",
            "1562/1562 [==============================] - 59s 38ms/step - loss: 0.1328 - accuracy: 0.9555 - val_loss: 0.4749 - val_accuracy: 0.8763\n",
            "Epoch 87/100\n",
            "1562/1562 [==============================] - 59s 38ms/step - loss: 0.1311 - accuracy: 0.9566 - val_loss: 0.5333 - val_accuracy: 0.8823\n",
            "Epoch 88/100\n",
            "1562/1562 [==============================] - 59s 38ms/step - loss: 0.1336 - accuracy: 0.9559 - val_loss: 0.4725 - val_accuracy: 0.8851\n",
            "Epoch 89/100\n",
            "1562/1562 [==============================] - 59s 38ms/step - loss: 0.1302 - accuracy: 0.9562 - val_loss: 0.4749 - val_accuracy: 0.8847\n",
            "Epoch 90/100\n",
            "1562/1562 [==============================] - 59s 38ms/step - loss: 0.1305 - accuracy: 0.9576 - val_loss: 0.4392 - val_accuracy: 0.8886\n",
            "Epoch 91/100\n",
            "1562/1562 [==============================] - 59s 38ms/step - loss: 0.1335 - accuracy: 0.9579 - val_loss: 0.4609 - val_accuracy: 0.8855\n",
            "Epoch 92/100\n",
            "1562/1562 [==============================] - 60s 38ms/step - loss: 0.1276 - accuracy: 0.9575 - val_loss: 0.5337 - val_accuracy: 0.8847\n",
            "Epoch 93/100\n",
            "1562/1562 [==============================] - 59s 38ms/step - loss: 0.1326 - accuracy: 0.9565 - val_loss: 0.4735 - val_accuracy: 0.8857\n",
            "Epoch 94/100\n",
            "1562/1562 [==============================] - 59s 38ms/step - loss: 0.1352 - accuracy: 0.9563 - val_loss: 0.4520 - val_accuracy: 0.8842\n",
            "Epoch 95/100\n",
            "1562/1562 [==============================] - 59s 38ms/step - loss: 0.1269 - accuracy: 0.9588 - val_loss: 0.4669 - val_accuracy: 0.8750\n",
            "Epoch 96/100\n",
            "1562/1562 [==============================] - 59s 38ms/step - loss: 0.1277 - accuracy: 0.9572 - val_loss: 0.4359 - val_accuracy: 0.8882\n",
            "Epoch 97/100\n",
            "1562/1562 [==============================] - 59s 38ms/step - loss: 0.1272 - accuracy: 0.9584 - val_loss: 0.4969 - val_accuracy: 0.8825\n",
            "Epoch 98/100\n",
            "1562/1562 [==============================] - 59s 38ms/step - loss: 0.1268 - accuracy: 0.9583 - val_loss: 0.5132 - val_accuracy: 0.8876\n",
            "Epoch 99/100\n",
            "1562/1562 [==============================] - 59s 38ms/step - loss: 0.1277 - accuracy: 0.9587 - val_loss: 0.4385 - val_accuracy: 0.8902\n",
            "Epoch 100/100\n",
            "1562/1562 [==============================] - 59s 38ms/step - loss: 0.1248 - accuracy: 0.9583 - val_loss: 0.4914 - val_accuracy: 0.8809\n"
          ]
        }
      ]
    },
    {
      "cell_type": "code",
      "metadata": {
        "id": "ML37hw4iOkBm",
        "colab": {
          "base_uri": "https://localhost:8080/",
          "height": 286
        },
        "outputId": "42b490b5-5147-4023-ecf6-19533936c306"
      },
      "source": [
        "# Plot loss per iteration\n",
        "import matplotlib.pyplot as plt\n",
        "plt.plot(r.history['loss'], label='loss')\n",
        "plt.plot(r.history['val_loss'], label='val_loss')\n",
        "plt.legend()"
      ],
      "execution_count": null,
      "outputs": [
        {
          "output_type": "execute_result",
          "data": {
            "text/plain": [
              "<matplotlib.legend.Legend at 0x7f5575e10590>"
            ]
          },
          "metadata": {},
          "execution_count": 10
        },
        {
          "output_type": "display_data",
          "data": {
            "image/png": "[encoded data removed]",
            "text/plain": [
              "<Figure size 432x288 with 1 Axes>"
            ]
          },
          "metadata": {
            "needs_background": "light"
          }
        }
      ]
    },
    {
      "cell_type": "code",
      "metadata": {
        "id": "pemstSDIOpIb",
        "colab": {
          "base_uri": "https://localhost:8080/",
          "height": 282
        },
        "outputId": "ea522539-5523-4de9-b6b1-3ae9d931a375"
      },
      "source": [
        "# Plot accuracy per iteration\n",
        "plt.plot(r.history['accuracy'], label='acc')\n",
        "plt.plot(r.history['val_accuracy'], label='val_acc')\n",
        "plt.legend()"
      ],
      "execution_count": null,
      "outputs": [
        {
          "output_type": "execute_result",
          "data": {
            "text/plain": [
              "<matplotlib.legend.Legend at 0x7f5575ddb550>"
            ]
          },
          "metadata": {},
          "execution_count": 11
        },
        {
          "output_type": "display_data",
          "data": {
            "image/png": "[encoded data removed]",
            "text/plain": [
              "<Figure size 432x288 with 1 Axes>"
            ]
          },
          "metadata": {
            "needs_background": "light"
          }
        }
      ]
    },
    {
      "cell_type": "code",
      "metadata": {
        "id": "2LJTd4OiO6kL",
        "colab": {
          "base_uri": "https://localhost:8080/",
          "height": 498
        },
        "outputId": "4d2762a5-4d3c-4676-8146-cf377f06b9af"
      },
      "source": [
        "# Plot confusion matrix\n",
        "from sklearn.metrics import confusion_matrix\n",
        "import itertools\n",
        "\n",
        "def plot_confusion_matrix(cm, classes,\n",
        "                          normalize=False,\n",
        "                          title='Confusion matrix',\n",
        "                          cmap=plt.cm.Blues):\n",
        "  \"\"\"\n",
        "  This function prints and plots the confusion matrix.\n",
        "  Normalization can be applied by setting `normalize=True`.\n",
        "  \"\"\"\n",
        "  if normalize:\n",
        "      cm = cm.astype('float') / cm.sum(axis=1)[:, np.newaxis]\n",
        "      print(\"Normalized confusion matrix\")\n",
        "  else:\n",
        "      print('Confusion matrix, without normalization')\n",
        "\n",
        "  print(cm)\n",
        "\n",
        "  plt.imshow(cm, interpolation='nearest', cmap=cmap)\n",
        "  plt.title(title)\n",
        "  plt.colorbar()\n",
        "  tick_marks = np.arange(len(classes))\n",
        "  plt.xticks(tick_marks, classes, rotation=45)\n",
        "  plt.yticks(tick_marks, classes)\n",
        "\n",
        "  fmt = '.2f' if normalize else 'd'\n",
        "  thresh = cm.max() / 2.\n",
        "  for i, j in itertools.product(range(cm.shape[0]), range(cm.shape[1])):\n",
        "      plt.text(j, i, format(cm[i, j], fmt),\n",
        "               horizontalalignment=\"center\",\n",
        "               color=\"white\" if cm[i, j] > thresh else \"black\")\n",
        "\n",
        "  plt.tight_layout()\n",
        "  plt.ylabel('True label')\n",
        "  plt.xlabel('Predicted label')\n",
        "  plt.show()\n",
        "\n",
        "\n",
        "p_test = model.predict(x_test).argmax(axis=1)\n",
        "cm = confusion_matrix(y_test, p_test)\n",
        "plot_confusion_matrix(cm, list(range(10)))\n",
        "\n"
      ],
      "execution_count": null,
      "outputs": [
        {
          "output_type": "stream",
          "name": "stdout",
          "text": [
            "Confusion matrix, without normalization\n",
            "[[897   6  20   3   4   1  10   2  32  25]\n",
            " [  6 950   0   0   0   1   2   1   7  33]\n",
            " [ 17   0 890  11  19  17  26  10   3   7]\n",
            " [ 14   6  69 692  33  79  61  20  13  13]\n",
            " [  5   1  55  19 859   9  30  17   2   3]\n",
            " [  4   3  37  79  30 789  29  21   2   6]\n",
            " [  5   0  30   9   7   5 940   1   2   1]\n",
            " [  7   0  22   8  27  17   5 906   1   7]\n",
            " [ 24   7   4   2   2   0   3   0 943  15]\n",
            " [  4  41   2   3   0   0   0   1   6 943]]\n"
          ]
        },
        {
          "output_type": "display_data",
          "data": {
            "image/png": "[encoded data removed]",
            "text/plain": [
              "<Figure size 432x288 with 2 Axes>"
            ]
          },
          "metadata": {
            "needs_background": "light"
          }
        }
      ]
    },
    {
      "cell_type": "code",
      "metadata": {
        "id": "AgQqQHXNXDgw"
      },
      "source": [
        "# label mapping\n",
        "labels = '''airplane\n",
        "automobile\n",
        "bird\n",
        "cat\n",
        "deer\n",
        "dog\n",
        "frog\n",
        "horse\n",
        "ship\n",
        "truck'''.split()"
      ],
      "execution_count": null,
      "outputs": []
    },
    {
      "cell_type": "code",
      "metadata": {
        "id": "jjmW4STFO-Ny",
        "colab": {
          "base_uri": "https://localhost:8080/",
          "height": 281
        },
        "outputId": "b3f15293-0ce8-4f9c-90fc-d25758093661"
      },
      "source": [
        "# Show some misclassified examples\n",
        "misclassified_idx = np.where(p_test != y_test)[0]\n",
        "i = np.random.choice(misclassified_idx)\n",
        "plt.imshow(x_test[i], cmap='gray')\n",
        "plt.title(\"True label: %s Predicted: %s\" % (labels[y_test[i]], labels[p_test[i]]));"
      ],
      "execution_count": null,
      "outputs": [
        {
          "output_type": "display_data",
          "data": {
            "image/png": "[encoded data removed]",
            "text/plain": [
              "<Figure size 432x288 with 1 Axes>"
            ]
          },
          "metadata": {
            "needs_background": "light"
          }
        }
      ]
    },
    {
      "cell_type": "code",
      "metadata": {
        "id": "qNw6PmshWjoZ",
        "colab": {
          "base_uri": "https://localhost:8080/"
        },
        "outputId": "b5790745-80f2-4054-c91d-7b1f0b6f280e"
      },
      "source": [
        "#it's useful to summarize it\n",
        "model.summary()"
      ],
      "execution_count": null,
      "outputs": [
        {
          "output_type": "stream",
          "name": "stdout",
          "text": [
            "Model: \"model\"\n",
            "_________________________________________________________________\n",
            "Layer (type)                 Output Shape              Param #   \n",
            "=================================================================\n",
            "input_1 (InputLayer)         [(None, 32, 32, 3)]       0         \n",
            "_________________________________________________________________\n",
            "conv2d (Conv2D)              (None, 32, 32, 32)        896       \n",
            "_________________________________________________________________\n",
            "batch_normalization (BatchNo (None, 32, 32, 32)        128       \n",
            "_________________________________________________________________\n",
            "conv2d_1 (Conv2D)            (None, 32, 32, 32)        9248      \n",
            "_________________________________________________________________\n",
            "batch_normalization_1 (Batch (None, 32, 32, 32)        128       \n",
            "_________________________________________________________________\n",
            "max_pooling2d (MaxPooling2D) (None, 16, 16, 32)        0         \n",
            "_________________________________________________________________\n",
            "conv2d_2 (Conv2D)            (None, 16, 16, 64)        18496     \n",
            "_________________________________________________________________\n",
            "batch_normalization_2 (Batch (None, 16, 16, 64)        256       \n",
            "_________________________________________________________________\n",
            "conv2d_3 (Conv2D)            (None, 16, 16, 64)        36928     \n",
            "_________________________________________________________________\n",
            "batch_normalization_3 (Batch (None, 16, 16, 64)        256       \n",
            "_________________________________________________________________\n",
            "max_pooling2d_1 (MaxPooling2 (None, 8, 8, 64)          0         \n",
            "_________________________________________________________________\n",
            "conv2d_4 (Conv2D)            (None, 8, 8, 128)         73856     \n",
            "_________________________________________________________________\n",
            "batch_normalization_4 (Batch (None, 8, 8, 128)         512       \n",
            "_________________________________________________________________\n",
            "conv2d_5 (Conv2D)            (None, 8, 8, 128)         147584    \n",
            "_________________________________________________________________\n",
            "batch_normalization_5 (Batch (None, 8, 8, 128)         512       \n",
            "_________________________________________________________________\n",
            "max_pooling2d_2 (MaxPooling2 (None, 4, 4, 128)         0         \n",
            "_________________________________________________________________\n",
            "flatten (Flatten)            (None, 2048)              0         \n",
            "_________________________________________________________________\n",
            "dropout (Dropout)            (None, 2048)              0         \n",
            "_________________________________________________________________\n",
            "dense (Dense)                (None, 1024)              2098176   \n",
            "_________________________________________________________________\n",
            "dropout_1 (Dropout)          (None, 1024)              0         \n",
            "_________________________________________________________________\n",
            "dense_1 (Dense)              (None, 10)                10250     \n",
            "=================================================================\n",
            "Total params: 2,397,226\n",
            "Trainable params: 2,396,330\n",
            "Non-trainable params: 896\n",
            "_________________________________________________________________\n"
          ]
        }
      ]
    }
  ]
}